{
 "cells": [
  {
   "cell_type": "code",
   "execution_count": 1,
   "metadata": {
    "collapsed": true
   },
   "outputs": [],
   "source": [
    "import numpy as np\n",
    "from scipy.signal import lfilter"
   ]
  },
  {
   "cell_type": "markdown",
   "metadata": {},
   "source": [
    "# 1. fractional difference by direct linear convolution"
   ]
  },
  {
   "cell_type": "code",
   "execution_count": 2,
   "metadata": {
    "collapsed": true
   },
   "outputs": [],
   "source": [
    "def fracfilter(x, d):\n",
    "    \"\"\"fracfilter: fractional derivative/integral by direct linear convolution\n",
    "    input x: 1-dim numpy.array float to be differentiated/integrated  \n",
    "    input d: float order of differantiation (d>0) or integration (d<0)\n",
    "    returns: numpy.array of fractional derivative/integral of array x of order d  \n",
    "    \"\"\"\n",
    "    T  = x.shape[0]\n",
    "    k  = np.array(range(1, T))\n",
    "    b  = np.insert(np.cumprod((k-d-1)/k), 0, 1, axis=0)\n",
    "    dx = lfilter(b, 1, x)\n",
    "    return dx"
   ]
  },
  {
   "cell_type": "markdown",
   "metadata": {},
   "source": [
    "# 2. fractional derivative by fast Fourier transform to compute the convolution"
   ]
  },
  {
   "cell_type": "code",
   "execution_count": 3,
   "metadata": {
    "collapsed": true
   },
   "outputs": [],
   "source": [
    "def nextpow2(i):\n",
    "    \"\"\"nextpow2: computes power of two closest to given input (greater than or equal)\n",
    "    input i: int  \n",
    "    returns: int n power of two closet to i from above (greater than or equal)  \n",
    "    \"\"\"\n",
    "    n = 1\n",
    "    while n < i: n *= 2\n",
    "    return n"
   ]
  },
  {
   "cell_type": "code",
   "execution_count": 4,
   "metadata": {
    "collapsed": true
   },
   "outputs": [],
   "source": [
    "def fracdiff(x, d):\n",
    "    \"\"\"fracdiff: fractional derivative/integral by by fast Fourier transform to compute the convolution\n",
    "    input x: 1-dim numpy.array float to be differentiated/integrated  \n",
    "    input d: float order of differantiation (d>0) or integration (d<0)\n",
    "    returns: numpy.array of fractional derivative/integral of array x of order d  \n",
    "    \"\"\"\n",
    "    T   = x.shape[0]\n",
    "    np2 = nextpow2(2*T -1)\n",
    "    k   = np.array(range(1, T))\n",
    "    b  = np.insert(np.cumprod((k-d-1)/k), 0, 1, axis=0)\n",
    "    # invoking np.fft with optional length given by power of 2 np2 improves efficiency and speed\n",
    "    dx = np.fft.ifft(np.fft.fft(x, np2) * np.fft.fft(b, np2))\n",
    "    return np.real(dx[:T])"
   ]
  },
  {
   "cell_type": "markdown",
   "metadata": {},
   "source": [
    "# 3. unit test"
   ]
  },
  {
   "cell_type": "code",
   "execution_count": 5,
   "metadata": {},
   "outputs": [
    {
     "name": "stdout",
     "output_type": "stream",
     "text": [
      "[ 100.    0.    0.    1.    1.    1.   -4.    1.    2.    2.    2.    2.\n",
      "    2.]\n",
      "[ 100.    0.   -0.    1.    1.    1.   -4.    1.    2.    2.    2.    2.\n",
      "    2.]\n"
     ]
    }
   ],
   "source": [
    "a = np.array([100, 100, 100, 101, 102, 103, 99, 100, 102, 104, 106, 108, 110])\n",
    "d = 1\n",
    "print(fracfilter(a, d))\n",
    "print(np.round(fracdiff(a, d), decimals=8))"
   ]
  },
  {
   "cell_type": "markdown",
   "metadata": {},
   "source": [
    "# 4. fracdiff module"
   ]
  },
  {
   "cell_type": "code",
   "execution_count": 6,
   "metadata": {
    "collapsed": true
   },
   "outputs": [],
   "source": [
    "import fracdiff as fd"
   ]
  },
  {
   "cell_type": "code",
   "execution_count": null,
   "metadata": {
    "collapsed": true
   },
   "outputs": [],
   "source": []
  },
  {
   "cell_type": "code",
   "execution_count": null,
   "metadata": {
    "collapsed": true
   },
   "outputs": [],
   "source": []
  },
  {
   "cell_type": "code",
   "execution_count": null,
   "metadata": {
    "collapsed": true
   },
   "outputs": [],
   "source": []
  }
 ],
 "metadata": {
  "kernelspec": {
   "display_name": "Python 3",
   "language": "python",
   "name": "python3"
  },
  "language_info": {
   "codemirror_mode": {
    "name": "ipython",
    "version": 3
   },
   "file_extension": ".py",
   "mimetype": "text/x-python",
   "name": "python",
   "nbconvert_exporter": "python",
   "pygments_lexer": "ipython3",
   "version": "3.6.4"
  }
 },
 "nbformat": 4,
 "nbformat_minor": 2
}
